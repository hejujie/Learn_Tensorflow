{
 "cells": [
  {
   "cell_type": "code",
   "execution_count": 1,
   "metadata": {
    "collapsed": false
   },
   "outputs": [
    {
     "name": "stdout",
     "output_type": "stream",
     "text": [
      "Extracting MNIST_data/train-images-idx3-ubyte.gz\n",
      "Extracting MNIST_data/train-labels-idx1-ubyte.gz\n",
      "Extracting MNIST_data/t10k-images-idx3-ubyte.gz\n",
      "Extracting MNIST_data/t10k-labels-idx1-ubyte.gz\n"
     ]
    }
   ],
   "source": [
    "import tensorflow as tf\n",
    "\n",
    "from tensorflow.examples.tutorials.mnist import input_data\n",
    "mnist = input_data.read_data_sets(\"MNIST_data/\", one_hot=True)"
   ]
  },
  {
   "cell_type": "code",
   "execution_count": 64,
   "metadata": {
    "collapsed": true
   },
   "outputs": [],
   "source": [
    "# parameters \n",
    "learning_rate = 0.01\n",
    "training_epochs = 25\n",
    "batch_size = 100\n",
    "display_step = 1"
   ]
  },
  {
   "cell_type": "code",
   "execution_count": 65,
   "metadata": {
    "collapsed": false
   },
   "outputs": [],
   "source": [
    "# define the structure of Graph\n",
    "\n",
    "X_train = tf.placeholder(tf.float32, [None, 784])\n",
    "Y_train = tf.placeholder(tf.float32, [None, 10])\n",
    "\n",
    "# linear regression don't care about initializer of weight\n",
    "W = tf.Variable(tf.zeros([784, 10]))\n",
    "# W = tf.get_variable(\"W\", shape=[784, 10], itializer = tf.contrib.layers.xavier_initializer())\n",
    "b = tf.Variable(tf.zeros([10]))\n",
    "\n",
    "predict = tf.nn.softmax(tf.matmul(X_train, W) + b)\n",
    "cost = tf.reduce_mean(-tf.reduce_sum(Y_train * tf.log(predict), reduction_indices = 1))\n",
    "# why use adam will appear nan\n",
    "optimizer = tf.train.GradientDescentOptimizer(learning_rate).minimize(cost)\n",
    "initial = tf.global_variables_initializer()\n",
    "\n",
    "# calculate accuracy\n",
    "correct_num = tf.equal(tf.arg_max(predict, dimension = 1), tf.arg_max(Y_train, dimension = 1))\n",
    "accuracy = tf.reduce_mean(tf.cast(correct_num, tf.float32), reduction_indices = 0)\n"
   ]
  },
  {
   "cell_type": "code",
   "execution_count": 66,
   "metadata": {
    "collapsed": false
   },
   "outputs": [
    {
     "name": "stdout",
     "output_type": "stream",
     "text": [
      "epochs  1    : average cost = 1.1813732687993483\n",
      "epochs  2    : average cost = 0.664415602738207\n",
      "epochs  3    : average cost = 0.5550863202051682\n",
      "epochs  4    : average cost = 0.4983836273171685\n",
      "epochs  5    : average cost = 0.4651462824778123\n",
      "epochs  6    : average cost = 0.44033986408602105\n",
      "epochs  7    : average cost = 0.42508360949429597\n",
      "epochs  8    : average cost = 0.41163700298829514\n",
      "epochs  9    : average cost = 0.40421900887380946\n",
      "epochs  10   : average cost = 0.3918721520358866\n",
      "epochs  11   : average cost = 0.38393774904988026\n",
      "epochs  12   : average cost = 0.37884027776393026\n",
      "epochs  13   : average cost = 0.3718536874651909\n",
      "epochs  14   : average cost = 0.36751370906829833\n",
      "epochs  15   : average cost = 0.3622862082990733\n",
      "epochs  16   : average cost = 0.36116324199871586\n",
      "epochs  17   : average cost = 0.3542932582985271\n",
      "epochs  18   : average cost = 0.3514071103659543\n",
      "epochs  19   : average cost = 0.34859420204704455\n",
      "epochs  20   : average cost = 0.34502752526239916\n",
      "epochs  21   : average cost = 0.34003870319236407\n",
      "epochs  22   : average cost = 0.34404789764772764\n",
      "epochs  23   : average cost = 0.3346209205551581\n",
      "epochs  24   : average cost = 0.3376724726774476\n",
      "epochs  25   : average cost = 0.33281307488679884\n",
      "accuracy in 5000 example is 0.9121999740600586\n"
     ]
    }
   ],
   "source": [
    "# train\n",
    "with tf.Session() as sess:\n",
    "    sess.run(initial)\n",
    "    for epochs in range(training_epochs):\n",
    "        average_cost = 0\n",
    "        total_batch = int(mnist.train.num_examples/batch_size)\n",
    "\n",
    "        for i in range(total_batch):\n",
    "            X, Y = mnist.train.next_batch(batch_size)\n",
    "            _, c = sess.run([optimizer, cost], feed_dict = {X_train : X, Y_train : Y})\n",
    "            average_cost += c\n",
    "        average_cost /= total_batch\n",
    "        if (epochs + 1) % display_step == 0:\n",
    "            print(\"epochs {: < 5} : average cost = {}\".format(epochs+1, average_cost))\n",
    "\n",
    "    X_test = mnist.test.images[:5000]\n",
    "    Y_test = mnist.test.labels[:5000]\n",
    "    #predict1 = sess.run(predict, feed_dict = {X_train : X_test, Y_train : Y_test})\n",
    "    #accuracy = tf.reduce_mean(correct_num, reduction_indices = 0)\n",
    "    print(\"accuracy in 5000 example is {}\".format(sess.run(accuracy, feed_dict = {X_train : X_test, Y_train : Y_test})))\n",
    "\n",
    "    "
   ]
  },
  {
   "cell_type": "code",
   "execution_count": null,
   "metadata": {
    "collapsed": true
   },
   "outputs": [],
   "source": []
  }
 ],
 "metadata": {
  "anaconda-cloud": {},
  "kernelspec": {
   "display_name": "Python [conda env:tensorflow]",
   "language": "python",
   "name": "conda-env-tensorflow-py"
  },
  "language_info": {
   "codemirror_mode": {
    "name": "ipython",
    "version": 3
   },
   "file_extension": ".py",
   "mimetype": "text/x-python",
   "name": "python",
   "nbconvert_exporter": "python",
   "pygments_lexer": "ipython3",
   "version": "3.5.3"
  }
 },
 "nbformat": 4,
 "nbformat_minor": 1
}
