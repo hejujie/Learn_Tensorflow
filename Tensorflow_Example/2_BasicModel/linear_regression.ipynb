{
 "cells": [
  {
   "cell_type": "code",
   "execution_count": 20,
   "metadata": {
    "collapsed": true
   },
   "outputs": [],
   "source": [
    "import tensorflow as tf\n",
    "import numpy as np\n",
    "import matplotlib.pyplot as plt"
   ]
  },
  {
   "cell_type": "code",
   "execution_count": 21,
   "metadata": {
    "collapsed": true
   },
   "outputs": [],
   "source": [
    "# parameters\n",
    "learning_rate = 0.01\n",
    "training_epochs = 1000\n",
    "display_step = 50"
   ]
  },
  {
   "cell_type": "code",
   "execution_count": 31,
   "metadata": {
    "collapsed": false
   },
   "outputs": [],
   "source": [
    "# Training Data\n",
    "train_X = numpy.asarray([3.3,4.4,5.5,6.71,6.93,4.168,9.779,6.182,7.59,2.167,\n",
    "                         7.042,10.791,5.313,7.997,5.654,9.27,3.1])\n",
    "train_Y = numpy.asarray([1.7,2.76,2.09,3.19,1.694,1.573,3.366,2.596,2.53,1.221,\n",
    "                         2.827,3.465,1.65,2.904,2.42,2.94,1.3])\n",
    "n_samples = train_X.shape[0]"
   ]
  },
  {
   "cell_type": "code",
   "execution_count": 58,
   "metadata": {
    "collapsed": false
   },
   "outputs": [],
   "source": [
    "# define variable and graph\n",
    "X_train = tf.placeholder(tf.float32)\n",
    "Y_train = tf.placeholder(tf.float32)\n",
    "\n",
    "W = tf.Variable(np.random.randn(), name = \"Weitght\")\n",
    "b = tf.Variable(np.random.randn(), name = \"Bias\")\n",
    "\n",
    "predict = tf.add(tf.multiply(X_train, W), b)\n",
    "\n",
    "# the comment one is wrong\n",
    "#cost = tf.reduce_sum(tf.pow(tf.add(predict, tf.negative(Y_train)), 2), axis = 0) / (2. * n_samples)\n",
    "cost = tf.reduce_sum(tf.pow(tf.add(predict, tf.negative(Y_train)), 2)) / (2. * n_samples)\n",
    "\n",
    "\n",
    "optimizer = tf.train.AdamOptimizer(learning_rate).minimize(cost)\n",
    "\n",
    "init = tf.global_variables_initializer()"
   ]
  },
  {
   "cell_type": "code",
   "execution_count": 59,
   "metadata": {
    "collapsed": false
   },
   "outputs": [
    {
     "name": "stdout",
     "output_type": "stream",
     "text": [
      "episode is  50  , cost is 9.01861, Weight is 0.3123, bias is 0.3539\n",
      "episode is  100 , cost is 9.05062, Weight is 0.2584, bias is 0.7351\n",
      "episode is  150 , cost is 9.06061, Weight is 0.2497, bias is 0.7961\n",
      "episode is  200 , cost is 9.06463, Weight is 0.2486, bias is 0.8033\n",
      "episode is  250 , cost is 9.06640, Weight is 0.2484, bias is 0.8042\n",
      "episode is  300 , cost is 9.06717, Weight is 0.2483, bias is 0.8044\n",
      "episode is  350 , cost is 9.06750, Weight is 0.2483, bias is 0.8044\n",
      "episode is  400 , cost is 9.06764, Weight is 0.2483, bias is 0.8044\n",
      "episode is  450 , cost is 9.06770, Weight is 0.2483, bias is 0.8044\n",
      "episode is  500 , cost is 9.06772, Weight is 0.2483, bias is 0.8044\n",
      "episode is  550 , cost is 9.06773, Weight is 0.2483, bias is 0.8044\n",
      "episode is  600 , cost is 9.06774, Weight is 0.2483, bias is 0.8045\n",
      "episode is  650 , cost is 9.06774, Weight is 0.2483, bias is 0.8044\n",
      "episode is  700 , cost is 9.06774, Weight is 0.2483, bias is 0.8045\n",
      "episode is  750 , cost is 9.06774, Weight is 0.2483, bias is 0.8045\n",
      "episode is  800 , cost is 9.06774, Weight is 0.2483, bias is 0.8045\n",
      "episode is  850 , cost is 9.06774, Weight is 0.2483, bias is 0.8045\n",
      "episode is  900 , cost is 9.06774, Weight is 0.2483, bias is 0.8045\n",
      "episode is  950 , cost is 9.06774, Weight is 0.2483, bias is 0.8045\n",
      "episode is  1000, cost is 9.06774, Weight is 0.2483, bias is 0.8045\n",
      "Optimize Finished\n"
     ]
    },
    {
     "data": {
      "image/png": "[encoded data removed]",
      "text/plain": [
       "<matplotlib.figure.Figure at 0x2143dbaf898>"
      ]
     },
     "metadata": {},
     "output_type": "display_data"
    }
   ],
   "source": [
    "with tf.Session() as sess:\n",
    "    sess.run(init)\n",
    "    \n",
    "    # use every single value\n",
    "    for i in range(training_epochs):\n",
    "        for (x, y) in zip(train_X, train_Y):\n",
    "            sess.run(optimizer, feed_dict = {X_train : x, Y_train : y})\n",
    "\n",
    "        if (i+1) % display_step == 0:\n",
    "            train_cost = sess.run(cost, feed_dict = {X_train : train_X, Y_train : train_X})\n",
    "            print(\"episode is {:< 5}, cost is {:.5f}, Weight is {:.4f}, bias is {:.4f}\"\\\n",
    "                  .format(i+1,train_cost ,sess.run(W), sess.run(b)))\n",
    "    print(\"Optimize Finished\")\n",
    "    plt.plot(train_X, train_Y, 'ro', label = \"Original data\")\n",
    "    plt.plot(train_X, sess.run(W) * train_X + sess.run(b), label = \"Fitted LIne\")\n",
    "    plt.show()"
   ]
  },
  {
   "cell_type": "code",
   "execution_count": null,
   "metadata": {
    "collapsed": true
   },
   "outputs": [],
   "source": []
  },
  {
   "cell_type": "code",
   "execution_count": null,
   "metadata": {
    "collapsed": true
   },
   "outputs": [],
   "source": []
  }
 ],
 "metadata": {
  "anaconda-cloud": {},
  "kernelspec": {
   "display_name": "Python [conda env:tensorflow]",
   "language": "python",
   "name": "conda-env-tensorflow-py"
  },
  "language_info": {
   "codemirror_mode": {
    "name": "ipython",
    "version": 3
   },
   "file_extension": ".py",
   "mimetype": "text/x-python",
   "name": "python",
   "nbconvert_exporter": "python",
   "pygments_lexer": "ipython3",
   "version": "3.5.3"
  }
 },
 "nbformat": 4,
 "nbformat_minor": 1
}
