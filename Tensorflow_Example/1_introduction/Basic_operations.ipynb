{
 "cells": [
  {
   "cell_type": "code",
   "execution_count": 1,
   "metadata": {
    "collapsed": true
   },
   "outputs": [],
   "source": [
    "import tensorflow as tf"
   ]
  },
  {
   "cell_type": "code",
   "execution_count": 2,
   "metadata": {
    "collapsed": true
   },
   "outputs": [],
   "source": [
    "a = tf.constant(2)\n",
    "b = tf.constant(3)"
   ]
  },
  {
   "cell_type": "code",
   "execution_count": 9,
   "metadata": {
    "collapsed": false
   },
   "outputs": [
    {
     "name": "stdout",
     "output_type": "stream",
     "text": [
      "a  = 2, b = 3\n",
      "a+b = 5\n",
      "a+b = 5\n",
      "a*b = 6\n",
      "a*b = 6\n"
     ]
    }
   ],
   "source": [
    "with tf.Session() as sess:\n",
    "    print(\"a  = {}, b = {}\".format(sess.run(a), sess.run(b)))\n",
    "    print(\"a+b = {}\".format(sess.run(tf.add(a, b))))\n",
    "    print(\"a+b = {}\".format(sess.run(a+b)))\n",
    "    print(\"a*b = {}\".format(sess.run(tf.multiply(a, b))))\n",
    "    print(\"a*b = {}\".format(sess.run(a*b)))"
   ]
  },
  {
   "cell_type": "code",
   "execution_count": 10,
   "metadata": {
    "collapsed": true
   },
   "outputs": [],
   "source": [
    "# graph input\n",
    "a = tf.placeholder(tf.int32)\n",
    "b = tf.placeholder(tf.int32)"
   ]
  },
  {
   "cell_type": "code",
   "execution_count": 11,
   "metadata": {
    "collapsed": true
   },
   "outputs": [],
   "source": [
    "# define some operations\n",
    "add = tf.add(a, b)\n",
    "mul = tf.multiply(a, b)"
   ]
  },
  {
   "cell_type": "code",
   "execution_count": 16,
   "metadata": {
    "collapsed": false
   },
   "outputs": [
    {
     "name": "stdout",
     "output_type": "stream",
     "text": [
      "Addition with variable = 5\n",
      "Multiply with variable = 680\n"
     ]
    }
   ],
   "source": [
    "# launch the graph\n",
    "with tf.Session() as sess:\n",
    "    print(\"Addition with variable = {}\".format(sess.run(add, feed_dict = {a:2, b:3})))\n",
    "    print(\"Multiply with variable = {}\".format(sess.run(mul, feed_dict = {a:20, b:34})))"
   ]
  },
  {
   "cell_type": "code",
   "execution_count": 24,
   "metadata": {
    "collapsed": false
   },
   "outputs": [
    {
     "name": "stdout",
     "output_type": "stream",
     "text": [
      "[[ 10.  12.]\n",
      " [ 15.  18.]]\n",
      "[[ 28.]]\n"
     ]
    }
   ],
   "source": [
    "# matrix claculate\n",
    "matrix1 = tf.constant([[2.], [3.]])\n",
    "matrix2 = tf.constant([[5., 6.]])\n",
    "\n",
    "product = tf.matmul(matrix1, matrix2)\n",
    "product2 = tf.matmul(matrix2, matrix1)\n",
    "\n",
    "with tf.Session() as sess:\n",
    "    print(sess.run(product))\n",
    "    print(sess.run(product2))"
   ]
  },
  {
   "cell_type": "code",
   "execution_count": null,
   "metadata": {
    "collapsed": true
   },
   "outputs": [],
   "source": []
  }
 ],
 "metadata": {
  "anaconda-cloud": {},
  "kernelspec": {
   "display_name": "Python [conda env:tensorflow]",
   "language": "python",
   "name": "conda-env-tensorflow-py"
  },
  "language_info": {
   "codemirror_mode": {
    "name": "ipython",
    "version": 3
   },
   "file_extension": ".py",
   "mimetype": "text/x-python",
   "name": "python",
   "nbconvert_exporter": "python",
   "pygments_lexer": "ipython3",
   "version": "3.5.3"
  }
 },
 "nbformat": 4,
 "nbformat_minor": 1
}
